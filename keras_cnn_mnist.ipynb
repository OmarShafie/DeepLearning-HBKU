{
  "nbformat": 4,
  "nbformat_minor": 0,
  "metadata": {
    "kernelspec": {
      "display_name": "Python 3",
      "language": "python",
      "name": "python3"
    },
    "language_info": {
      "codemirror_mode": {
        "name": "ipython",
        "version": 3
      },
      "file_extension": ".py",
      "mimetype": "text/x-python",
      "name": "python",
      "nbconvert_exporter": "python",
      "pygments_lexer": "ipython3",
      "version": "3.8.3"
    },
    "colab": {
      "name": "keras_cnn_mnist.ipynb",
      "provenance": [],
      "include_colab_link": true
    },
    "accelerator": "GPU"
  },
  "cells": [
    {
      "cell_type": "markdown",
      "metadata": {
        "id": "view-in-github",
        "colab_type": "text"
      },
      "source": [
        "<a href=\"https://colab.research.google.com/github/OmarShafie/MNIST-HBKU/blob/master/keras_cnn_mnist.ipynb\" target=\"_parent\"><img src=\"https://colab.research.google.com/assets/colab-badge.svg\" alt=\"Open In Colab\"/></a>"
      ]
    },
    {
      "cell_type": "code",
      "metadata": {
        "id": "_P9QZd7FoGAz",
        "colab_type": "code",
        "colab": {}
      },
      "source": [
        "import tensorflow as tf\n",
        "import numpy as np\n",
        "\n",
        "from tensorflow.keras.datasets import mnist\n",
        "from tensorflow.keras.layers import Input, Conv2D, Dense, Dropout, MaxPool2D, Flatten\n",
        "from tensorflow.keras import Model, Sequential\n",
        "from tensorflow.keras.losses import sparse_categorical_crossentropy\n",
        "from tensorflow.keras.metrics import sparse_categorical_accuracy\n",
        "from tensorflow.keras.optimizers import Adam"
      ],
      "execution_count": null,
      "outputs": []
    },
    {
      "cell_type": "code",
      "metadata": {
        "id": "tIKwYQ47oGA4",
        "colab_type": "code",
        "colab": {
          "base_uri": "https://localhost:8080/",
          "height": 34
        },
        "outputId": "bf2a667d-4c95-4a56-d688-7b68cfe0b7e2"
      },
      "source": [
        "(x_train, y_train), (x_test, y_test) = mnist.load_data()\n",
        "x_train, x_test = (x_train / 255.0), (x_test / 255.0) # Normalize to [0, 1]\n",
        "x_train.__class__"
      ],
      "execution_count": null,
      "outputs": [
        {
          "output_type": "execute_result",
          "data": {
            "text/plain": [
              "numpy.ndarray"
            ]
          },
          "metadata": {
            "tags": []
          },
          "execution_count": 12
        }
      ]
    },
    {
      "cell_type": "code",
      "metadata": {
        "id": "03p6CrtzoGA8",
        "colab_type": "code",
        "colab": {
          "base_uri": "https://localhost:8080/",
          "height": 34
        },
        "outputId": "adf9dfae-9a3b-4030-c32c-403becaaaf54"
      },
      "source": [
        "x_train.shape # this shape doesn't work for convolutions, which require color channels"
      ],
      "execution_count": null,
      "outputs": [
        {
          "output_type": "execute_result",
          "data": {
            "text/plain": [
              "(60000, 28, 28)"
            ]
          },
          "metadata": {
            "tags": []
          },
          "execution_count": 13
        }
      ]
    },
    {
      "cell_type": "code",
      "metadata": {
        "id": "YAlnJg2_oGBA",
        "colab_type": "code",
        "colab": {
          "base_uri": "https://localhost:8080/",
          "height": 34
        },
        "outputId": "0053f626-927c-4d8d-f27e-aa6b2a085d74"
      },
      "source": [
        "x_train = x_train.reshape(-1, 28, 28, 1)\n",
        "x_test = x_test.reshape(-1, 28, 28, 1)\n",
        "x_train.shape"
      ],
      "execution_count": null,
      "outputs": [
        {
          "output_type": "execute_result",
          "data": {
            "text/plain": [
              "(60000, 28, 28, 1)"
            ]
          },
          "metadata": {
            "tags": []
          },
          "execution_count": 14
        }
      ]
    },
    {
      "cell_type": "code",
      "metadata": {
        "id": "0TdvSZxcoGBD",
        "colab_type": "code",
        "colab": {}
      },
      "source": [
        "model = Sequential()\n",
        "model.add(Input(shape=(28, 28, 1)))\n",
        "model.add(Conv2D(15, kernel_size=5, activation='relu')) # 10-channel, 5x5 convolution followed by ReLU\n",
        "model.add(Conv2D(30, kernel_size=5, activation='relu'))\n",
        "model.add(MaxPool2D(2)) #2x2 maxpool -> 14x14x1\n",
        "model.add(Conv2D(45, kernel_size=5, activation='relu'))\n",
        "model.add(Conv2D(90, kernel_size=5, activation='relu'))\n",
        "model.add(MaxPool2D(2))\n",
        "model.add(Flatten())\n",
        "model.add(Dropout(0.5))\n",
        "model.add(Dense(10, activation='softmax'))\n",
        "\n",
        "# home exercise: define model with Keras functional model API"
      ],
      "execution_count": null,
      "outputs": []
    },
    {
      "cell_type": "code",
      "metadata": {
        "id": "fhTObO7XoGBG",
        "colab_type": "code",
        "colab": {}
      },
      "source": [
        "opt = Adam(learning_rate=0.001)"
      ],
      "execution_count": null,
      "outputs": []
    },
    {
      "cell_type": "code",
      "metadata": {
        "id": "1dwPb7Z7oGBJ",
        "colab_type": "code",
        "colab": {}
      },
      "source": [
        "model.compile(\n",
        "    optimizer=opt,\n",
        "    loss=sparse_categorical_crossentropy,\n",
        "    metrics=[sparse_categorical_accuracy],\n",
        ")"
      ],
      "execution_count": null,
      "outputs": []
    },
    {
      "cell_type": "code",
      "metadata": {
        "id": "-qHwo63NoGBN",
        "colab_type": "code",
        "colab": {
          "base_uri": "https://localhost:8080/",
          "height": 459
        },
        "outputId": "1b4834fe-be62-410d-d297-72773b40403f"
      },
      "source": [
        "model.summary()"
      ],
      "execution_count": null,
      "outputs": [
        {
          "output_type": "stream",
          "text": [
            "Model: \"sequential_1\"\n",
            "_________________________________________________________________\n",
            "Layer (type)                 Output Shape              Param #   \n",
            "=================================================================\n",
            "conv2d_4 (Conv2D)            (None, 24, 24, 15)        390       \n",
            "_________________________________________________________________\n",
            "conv2d_5 (Conv2D)            (None, 20, 20, 30)        11280     \n",
            "_________________________________________________________________\n",
            "max_pooling2d_2 (MaxPooling2 (None, 10, 10, 30)        0         \n",
            "_________________________________________________________________\n",
            "conv2d_6 (Conv2D)            (None, 6, 6, 45)          33795     \n",
            "_________________________________________________________________\n",
            "conv2d_7 (Conv2D)            (None, 2, 2, 90)          101340    \n",
            "_________________________________________________________________\n",
            "max_pooling2d_3 (MaxPooling2 (None, 1, 1, 90)          0         \n",
            "_________________________________________________________________\n",
            "flatten_1 (Flatten)          (None, 90)                0         \n",
            "_________________________________________________________________\n",
            "dropout_1 (Dropout)          (None, 90)                0         \n",
            "_________________________________________________________________\n",
            "dense_1 (Dense)              (None, 10)                910       \n",
            "=================================================================\n",
            "Total params: 147,715\n",
            "Trainable params: 147,715\n",
            "Non-trainable params: 0\n",
            "_________________________________________________________________\n"
          ],
          "name": "stdout"
        }
      ]
    },
    {
      "cell_type": "code",
      "metadata": {
        "id": "8rU5DpNdoGBQ",
        "colab_type": "code",
        "colab": {
          "base_uri": "https://localhost:8080/",
          "height": 1000
        },
        "outputId": "4b3c988f-f501-432c-cb74-186bfa743c6d"
      },
      "source": [
        "bs = 256\n",
        "n_epoch = 30\n",
        "\n",
        "history=model.fit(\n",
        "    x_train,\n",
        "    y_train,\n",
        "    batch_size=bs,\n",
        "    epochs=n_epoch,\n",
        "    validation_data=(x_test, y_test),\n",
        ")\n",
        "scores = model.evaluate(x_test, y_test)\n",
        "scores[1]"
      ],
      "execution_count": null,
      "outputs": [
        {
          "output_type": "stream",
          "text": [
            "Epoch 1/30\n",
            "235/235 [==============================] - 2s 9ms/step - loss: 0.4423 - sparse_categorical_accuracy: 0.8610 - val_loss: 0.0776 - val_sparse_categorical_accuracy: 0.9762\n",
            "Epoch 2/30\n",
            "235/235 [==============================] - 2s 8ms/step - loss: 0.1228 - sparse_categorical_accuracy: 0.9650 - val_loss: 0.0435 - val_sparse_categorical_accuracy: 0.9865\n",
            "Epoch 3/30\n",
            "235/235 [==============================] - 2s 8ms/step - loss: 0.0795 - sparse_categorical_accuracy: 0.9772 - val_loss: 0.0315 - val_sparse_categorical_accuracy: 0.9897\n",
            "Epoch 4/30\n",
            "235/235 [==============================] - 2s 8ms/step - loss: 0.0634 - sparse_categorical_accuracy: 0.9819 - val_loss: 0.0319 - val_sparse_categorical_accuracy: 0.9902\n",
            "Epoch 5/30\n",
            "235/235 [==============================] - 2s 8ms/step - loss: 0.0525 - sparse_categorical_accuracy: 0.9844 - val_loss: 0.0272 - val_sparse_categorical_accuracy: 0.9914\n",
            "Epoch 6/30\n",
            "235/235 [==============================] - 2s 9ms/step - loss: 0.0467 - sparse_categorical_accuracy: 0.9866 - val_loss: 0.0236 - val_sparse_categorical_accuracy: 0.9928\n",
            "Epoch 7/30\n",
            "235/235 [==============================] - 2s 9ms/step - loss: 0.0395 - sparse_categorical_accuracy: 0.9887 - val_loss: 0.0209 - val_sparse_categorical_accuracy: 0.9936\n",
            "Epoch 8/30\n",
            "235/235 [==============================] - 2s 9ms/step - loss: 0.0366 - sparse_categorical_accuracy: 0.9898 - val_loss: 0.0248 - val_sparse_categorical_accuracy: 0.9927\n",
            "Epoch 9/30\n",
            "235/235 [==============================] - 2s 9ms/step - loss: 0.0321 - sparse_categorical_accuracy: 0.9909 - val_loss: 0.0212 - val_sparse_categorical_accuracy: 0.9932\n",
            "Epoch 10/30\n",
            "235/235 [==============================] - 2s 8ms/step - loss: 0.0314 - sparse_categorical_accuracy: 0.9908 - val_loss: 0.0227 - val_sparse_categorical_accuracy: 0.9932\n",
            "Epoch 11/30\n",
            "235/235 [==============================] - 2s 8ms/step - loss: 0.0285 - sparse_categorical_accuracy: 0.9910 - val_loss: 0.0233 - val_sparse_categorical_accuracy: 0.9930\n",
            "Epoch 12/30\n",
            "235/235 [==============================] - 2s 8ms/step - loss: 0.0268 - sparse_categorical_accuracy: 0.9917 - val_loss: 0.0186 - val_sparse_categorical_accuracy: 0.9943\n",
            "Epoch 13/30\n",
            "235/235 [==============================] - 2s 8ms/step - loss: 0.0251 - sparse_categorical_accuracy: 0.9923 - val_loss: 0.0227 - val_sparse_categorical_accuracy: 0.9942\n",
            "Epoch 14/30\n",
            "235/235 [==============================] - 2s 8ms/step - loss: 0.0221 - sparse_categorical_accuracy: 0.9933 - val_loss: 0.0238 - val_sparse_categorical_accuracy: 0.9938\n",
            "Epoch 15/30\n",
            "235/235 [==============================] - 2s 8ms/step - loss: 0.0220 - sparse_categorical_accuracy: 0.9933 - val_loss: 0.0189 - val_sparse_categorical_accuracy: 0.9943\n",
            "Epoch 16/30\n",
            "235/235 [==============================] - 2s 8ms/step - loss: 0.0203 - sparse_categorical_accuracy: 0.9935 - val_loss: 0.0203 - val_sparse_categorical_accuracy: 0.9942\n",
            "Epoch 17/30\n",
            "235/235 [==============================] - 2s 8ms/step - loss: 0.0206 - sparse_categorical_accuracy: 0.9938 - val_loss: 0.0194 - val_sparse_categorical_accuracy: 0.9939\n",
            "Epoch 18/30\n",
            "235/235 [==============================] - 2s 8ms/step - loss: 0.0182 - sparse_categorical_accuracy: 0.9949 - val_loss: 0.0259 - val_sparse_categorical_accuracy: 0.9933\n",
            "Epoch 19/30\n",
            "235/235 [==============================] - 2s 8ms/step - loss: 0.0174 - sparse_categorical_accuracy: 0.9949 - val_loss: 0.0251 - val_sparse_categorical_accuracy: 0.9936\n",
            "Epoch 20/30\n",
            "235/235 [==============================] - 2s 8ms/step - loss: 0.0143 - sparse_categorical_accuracy: 0.9956 - val_loss: 0.0288 - val_sparse_categorical_accuracy: 0.9919\n",
            "Epoch 21/30\n",
            "235/235 [==============================] - 2s 8ms/step - loss: 0.0150 - sparse_categorical_accuracy: 0.9956 - val_loss: 0.0263 - val_sparse_categorical_accuracy: 0.9941\n",
            "Epoch 22/30\n",
            "235/235 [==============================] - 2s 8ms/step - loss: 0.0136 - sparse_categorical_accuracy: 0.9959 - val_loss: 0.0302 - val_sparse_categorical_accuracy: 0.9932\n",
            "Epoch 23/30\n",
            "235/235 [==============================] - 2s 8ms/step - loss: 0.0137 - sparse_categorical_accuracy: 0.9957 - val_loss: 0.0242 - val_sparse_categorical_accuracy: 0.9940\n",
            "Epoch 24/30\n",
            "235/235 [==============================] - 2s 8ms/step - loss: 0.0138 - sparse_categorical_accuracy: 0.9954 - val_loss: 0.0281 - val_sparse_categorical_accuracy: 0.9934\n",
            "Epoch 25/30\n",
            "235/235 [==============================] - 2s 8ms/step - loss: 0.0142 - sparse_categorical_accuracy: 0.9956 - val_loss: 0.0293 - val_sparse_categorical_accuracy: 0.9927\n",
            "Epoch 26/30\n",
            "235/235 [==============================] - 2s 8ms/step - loss: 0.0115 - sparse_categorical_accuracy: 0.9963 - val_loss: 0.0272 - val_sparse_categorical_accuracy: 0.9944\n",
            "Epoch 27/30\n",
            "235/235 [==============================] - 2s 8ms/step - loss: 0.0099 - sparse_categorical_accuracy: 0.9970 - val_loss: 0.0268 - val_sparse_categorical_accuracy: 0.9935\n",
            "Epoch 28/30\n",
            "235/235 [==============================] - 2s 8ms/step - loss: 0.0119 - sparse_categorical_accuracy: 0.9964 - val_loss: 0.0288 - val_sparse_categorical_accuracy: 0.9921\n",
            "Epoch 29/30\n",
            "235/235 [==============================] - 2s 8ms/step - loss: 0.0127 - sparse_categorical_accuracy: 0.9959 - val_loss: 0.0276 - val_sparse_categorical_accuracy: 0.9932\n",
            "Epoch 30/30\n",
            "235/235 [==============================] - 2s 8ms/step - loss: 0.0097 - sparse_categorical_accuracy: 0.9968 - val_loss: 0.0245 - val_sparse_categorical_accuracy: 0.9946\n",
            "313/313 [==============================] - 1s 2ms/step - loss: 0.0245 - sparse_categorical_accuracy: 0.9946\n"
          ],
          "name": "stdout"
        },
        {
          "output_type": "execute_result",
          "data": {
            "text/plain": [
              "0.9945999979972839"
            ]
          },
          "metadata": {
            "tags": []
          },
          "execution_count": 19
        }
      ]
    },
    {
      "cell_type": "code",
      "metadata": {
        "id": "7YkPgQqIHmKJ",
        "colab_type": "code",
        "colab": {
          "base_uri": "https://localhost:8080/",
          "height": 297
        },
        "outputId": "9c5e1c65-1a2a-4620-86a0-f06b707ca3ad"
      },
      "source": [
        "# plotting the metrics\n",
        "import numpy as np\n",
        "import matplotlib\n",
        "matplotlib.use('agg')\n",
        "import matplotlib.pyplot as plt\n",
        "\n",
        "fig = plt.figure()\n",
        "plt.subplot(2,1,1)\n",
        "plt.plot(history.history['sparse_categorical_accuracy'])\n",
        "plt.plot(history.history['val_sparse_categorical_accuracy'])\n",
        "plt.title('model accuracy')\n",
        "plt.ylabel('accuracy')\n",
        "plt.xlabel('epoch')\n",
        "plt.legend(['train', 'test'], loc='lower right')\n",
        "\n",
        "plt.subplot(2,1,2)\n",
        "plt.plot(history.history['loss'])\n",
        "plt.plot(history.history['val_loss'])\n",
        "plt.title('model loss')\n",
        "plt.ylabel('loss')\n",
        "plt.xlabel('epoch')\n",
        "plt.legend(['train', 'test'], loc='upper right')\n",
        "\n",
        "plt.tight_layout()\n",
        "\n",
        "fig"
      ],
      "execution_count": null,
      "outputs": [
        {
          "output_type": "execute_result",
          "data": {
            "image/png": "[encoded data removed]",
            "text/plain": [
              "<Figure size 432x288 with 2 Axes>"
            ]
          },
          "metadata": {
            "tags": []
          },
          "execution_count": 20
        }
      ]
    }
  ]
}