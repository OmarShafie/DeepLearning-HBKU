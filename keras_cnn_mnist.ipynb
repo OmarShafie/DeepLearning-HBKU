{
  "nbformat": 4,
  "nbformat_minor": 0,
  "metadata": {
    "kernelspec": {
      "display_name": "Python 3",
      "language": "python",
      "name": "python3"
    },
    "language_info": {
      "codemirror_mode": {
        "name": "ipython",
        "version": 3
      },
      "file_extension": ".py",
      "mimetype": "text/x-python",
      "name": "python",
      "nbconvert_exporter": "python",
      "pygments_lexer": "ipython3",
      "version": "3.8.3"
    },
    "colab": {
      "name": "keras_cnn_mnist.ipynb",
      "provenance": [],
      "include_colab_link": true
    },
    "accelerator": "GPU"
  },
  "cells": [
    {
      "cell_type": "markdown",
      "metadata": {
        "id": "view-in-github",
        "colab_type": "text"
      },
      "source": [
        "<a href=\"https://colab.research.google.com/github/OmarShafie/MNIST-HBKU/blob/master/keras_cnn_mnist.ipynb\" target=\"_parent\"><img src=\"https://colab.research.google.com/assets/colab-badge.svg\" alt=\"Open In Colab\"/></a>"
      ]
    },
    {
      "cell_type": "code",
      "metadata": {
        "id": "_P9QZd7FoGAz",
        "colab_type": "code",
        "colab": {}
      },
      "source": [
        "import tensorflow as tf\n",
        "import numpy as np\n",
        "\n",
        "from tensorflow.keras.datasets import mnist\n",
        "from tensorflow.keras.layers import Input, Conv2D, Dense, Dropout, MaxPool2D, Flatten\n",
        "from tensorflow.keras import Model, Sequential\n",
        "from tensorflow.keras.losses import sparse_categorical_crossentropy\n",
        "from tensorflow.keras.metrics import sparse_categorical_accuracy\n",
        "from tensorflow.keras.optimizers import Adam"
      ],
      "execution_count": 1,
      "outputs": []
    },
    {
      "cell_type": "code",
      "metadata": {
        "id": "tIKwYQ47oGA4",
        "colab_type": "code",
        "colab": {
          "base_uri": "https://localhost:8080/",
          "height": 68
        },
        "outputId": "7ccffb5b-ebc1-48c4-b3e8-688ff121d883"
      },
      "source": [
        "(x_train, y_train), (x_test, y_test) = mnist.load_data()\n",
        "x_train, x_test = (x_train / 255.0), (x_test / 255.0) # Normalize to [0, 1]\n",
        "x_train.__class__"
      ],
      "execution_count": 2,
      "outputs": [
        {
          "output_type": "stream",
          "text": [
            "Downloading data from https://storage.googleapis.com/tensorflow/tf-keras-datasets/mnist.npz\n",
            "11493376/11490434 [==============================] - 0s 0us/step\n"
          ],
          "name": "stdout"
        },
        {
          "output_type": "execute_result",
          "data": {
            "text/plain": [
              "numpy.ndarray"
            ]
          },
          "metadata": {
            "tags": []
          },
          "execution_count": 2
        }
      ]
    },
    {
      "cell_type": "code",
      "metadata": {
        "id": "03p6CrtzoGA8",
        "colab_type": "code",
        "colab": {
          "base_uri": "https://localhost:8080/",
          "height": 34
        },
        "outputId": "11bade52-7bc1-4f2c-b74d-ecfb0d6dc721"
      },
      "source": [
        "x_train.shape # this shape doesn't work for convolutions, which require color channels"
      ],
      "execution_count": 3,
      "outputs": [
        {
          "output_type": "execute_result",
          "data": {
            "text/plain": [
              "(60000, 28, 28)"
            ]
          },
          "metadata": {
            "tags": []
          },
          "execution_count": 3
        }
      ]
    },
    {
      "cell_type": "code",
      "metadata": {
        "id": "YAlnJg2_oGBA",
        "colab_type": "code",
        "colab": {
          "base_uri": "https://localhost:8080/",
          "height": 34
        },
        "outputId": "585d8c36-0c11-4378-ebec-d07bcb5d3b37"
      },
      "source": [
        "x_train = x_train.reshape(-1, 28, 28, 1)\n",
        "x_test = x_test.reshape(-1, 28, 28, 1)\n",
        "x_train.shape"
      ],
      "execution_count": 4,
      "outputs": [
        {
          "output_type": "execute_result",
          "data": {
            "text/plain": [
              "(60000, 28, 28, 1)"
            ]
          },
          "metadata": {
            "tags": []
          },
          "execution_count": 4
        }
      ]
    },
    {
      "cell_type": "code",
      "metadata": {
        "id": "0TdvSZxcoGBD",
        "colab_type": "code",
        "colab": {}
      },
      "source": [
        "model = Sequential()\n",
        "model.add(Input(shape=(28, 28, 1)))\n",
        "model.add(Conv2D(15, kernel_size=5, activation='relu')) # 10-channel, 5x5 convolution followed by ReLU\n",
        "model.add(Conv2D(30, kernel_size=5, activation='relu'))\n",
        "model.add(MaxPool2D(2)) #2x2 maxpool -> 14x14x1\n",
        "model.add(Conv2D(45, kernel_size=5, activation='relu'))\n",
        "model.add(Conv2D(90, kernel_size=5, activation='relu'))\n",
        "model.add(MaxPool2D(2))\n",
        "model.add(Flatten())\n",
        "model.add(Dropout(0.5))\n",
        "model.add(Dense(10, activation='softmax'))\n",
        "\n",
        "# home exercise: define model with Keras functional model API"
      ],
      "execution_count": 5,
      "outputs": []
    },
    {
      "cell_type": "code",
      "metadata": {
        "id": "fhTObO7XoGBG",
        "colab_type": "code",
        "colab": {}
      },
      "source": [
        "opt = Adam(learning_rate=0.001)"
      ],
      "execution_count": 6,
      "outputs": []
    },
    {
      "cell_type": "code",
      "metadata": {
        "id": "1dwPb7Z7oGBJ",
        "colab_type": "code",
        "colab": {}
      },
      "source": [
        "model.compile(\n",
        "    optimizer=opt,\n",
        "    loss=sparse_categorical_crossentropy,\n",
        "    metrics=[sparse_categorical_accuracy],\n",
        ")"
      ],
      "execution_count": 7,
      "outputs": []
    },
    {
      "cell_type": "code",
      "metadata": {
        "id": "-qHwo63NoGBN",
        "colab_type": "code",
        "colab": {
          "base_uri": "https://localhost:8080/",
          "height": 459
        },
        "outputId": "931fb321-89fa-4e46-e0c0-70f14b44947d"
      },
      "source": [
        "model.summary()"
      ],
      "execution_count": 8,
      "outputs": [
        {
          "output_type": "stream",
          "text": [
            "Model: \"sequential\"\n",
            "_________________________________________________________________\n",
            "Layer (type)                 Output Shape              Param #   \n",
            "=================================================================\n",
            "conv2d (Conv2D)              (None, 24, 24, 15)        390       \n",
            "_________________________________________________________________\n",
            "conv2d_1 (Conv2D)            (None, 20, 20, 30)        11280     \n",
            "_________________________________________________________________\n",
            "max_pooling2d (MaxPooling2D) (None, 10, 10, 30)        0         \n",
            "_________________________________________________________________\n",
            "conv2d_2 (Conv2D)            (None, 6, 6, 45)          33795     \n",
            "_________________________________________________________________\n",
            "conv2d_3 (Conv2D)            (None, 2, 2, 90)          101340    \n",
            "_________________________________________________________________\n",
            "max_pooling2d_1 (MaxPooling2 (None, 1, 1, 90)          0         \n",
            "_________________________________________________________________\n",
            "flatten (Flatten)            (None, 90)                0         \n",
            "_________________________________________________________________\n",
            "dropout (Dropout)            (None, 90)                0         \n",
            "_________________________________________________________________\n",
            "dense (Dense)                (None, 10)                910       \n",
            "=================================================================\n",
            "Total params: 147,715\n",
            "Trainable params: 147,715\n",
            "Non-trainable params: 0\n",
            "_________________________________________________________________\n"
          ],
          "name": "stdout"
        }
      ]
    },
    {
      "cell_type": "code",
      "metadata": {
        "id": "8rU5DpNdoGBQ",
        "colab_type": "code",
        "colab": {
          "base_uri": "https://localhost:8080/",
          "height": 1000
        },
        "outputId": "678a0858-5682-4c8f-da68-483f6588a7ce"
      },
      "source": [
        "bs = 256\n",
        "n_epoch = 30\n",
        "\n",
        "history=model.fit(\n",
        "    x_train,\n",
        "    y_train,\n",
        "    batch_size=bs,\n",
        "    epochs=n_epoch,\n",
        "    validation_data=(x_test, y_test),\n",
        ")\n",
        "scores = model.evaluate(x_test, y_test)\n",
        "scores[1]"
      ],
      "execution_count": 9,
      "outputs": [
        {
          "output_type": "stream",
          "text": [
            "Epoch 1/30\n",
            "235/235 [==============================] - 2s 9ms/step - loss: 0.3952 - sparse_categorical_accuracy: 0.8770 - val_loss: 0.0773 - val_sparse_categorical_accuracy: 0.9769\n",
            "Epoch 2/30\n",
            "235/235 [==============================] - 2s 8ms/step - loss: 0.1145 - sparse_categorical_accuracy: 0.9670 - val_loss: 0.0465 - val_sparse_categorical_accuracy: 0.9851\n",
            "Epoch 3/30\n",
            "235/235 [==============================] - 2s 8ms/step - loss: 0.0752 - sparse_categorical_accuracy: 0.9780 - val_loss: 0.0342 - val_sparse_categorical_accuracy: 0.9893\n",
            "Epoch 4/30\n",
            "235/235 [==============================] - 2s 8ms/step - loss: 0.0598 - sparse_categorical_accuracy: 0.9828 - val_loss: 0.0319 - val_sparse_categorical_accuracy: 0.9898\n",
            "Epoch 5/30\n",
            "235/235 [==============================] - 2s 8ms/step - loss: 0.0509 - sparse_categorical_accuracy: 0.9848 - val_loss: 0.0316 - val_sparse_categorical_accuracy: 0.9899\n",
            "Epoch 6/30\n",
            "235/235 [==============================] - 2s 8ms/step - loss: 0.0453 - sparse_categorical_accuracy: 0.9869 - val_loss: 0.0291 - val_sparse_categorical_accuracy: 0.9920\n",
            "Epoch 7/30\n",
            "235/235 [==============================] - 2s 8ms/step - loss: 0.0398 - sparse_categorical_accuracy: 0.9884 - val_loss: 0.0275 - val_sparse_categorical_accuracy: 0.9921\n",
            "Epoch 8/30\n",
            "235/235 [==============================] - 2s 8ms/step - loss: 0.0336 - sparse_categorical_accuracy: 0.9898 - val_loss: 0.0268 - val_sparse_categorical_accuracy: 0.9918\n",
            "Epoch 9/30\n",
            "235/235 [==============================] - 2s 8ms/step - loss: 0.0318 - sparse_categorical_accuracy: 0.9908 - val_loss: 0.0239 - val_sparse_categorical_accuracy: 0.9933\n",
            "Epoch 10/30\n",
            "235/235 [==============================] - 2s 8ms/step - loss: 0.0285 - sparse_categorical_accuracy: 0.9913 - val_loss: 0.0211 - val_sparse_categorical_accuracy: 0.9941\n",
            "Epoch 11/30\n",
            "235/235 [==============================] - 2s 8ms/step - loss: 0.0259 - sparse_categorical_accuracy: 0.9920 - val_loss: 0.0222 - val_sparse_categorical_accuracy: 0.9940\n",
            "Epoch 12/30\n",
            "235/235 [==============================] - 2s 8ms/step - loss: 0.0226 - sparse_categorical_accuracy: 0.9933 - val_loss: 0.0206 - val_sparse_categorical_accuracy: 0.9941\n",
            "Epoch 13/30\n",
            "235/235 [==============================] - 2s 8ms/step - loss: 0.0217 - sparse_categorical_accuracy: 0.9934 - val_loss: 0.0195 - val_sparse_categorical_accuracy: 0.9933\n",
            "Epoch 14/30\n",
            "235/235 [==============================] - 2s 8ms/step - loss: 0.0206 - sparse_categorical_accuracy: 0.9938 - val_loss: 0.0180 - val_sparse_categorical_accuracy: 0.9943\n",
            "Epoch 15/30\n",
            "235/235 [==============================] - 2s 8ms/step - loss: 0.0185 - sparse_categorical_accuracy: 0.9944 - val_loss: 0.0232 - val_sparse_categorical_accuracy: 0.9939\n",
            "Epoch 16/30\n",
            "235/235 [==============================] - 2s 8ms/step - loss: 0.0192 - sparse_categorical_accuracy: 0.9942 - val_loss: 0.0223 - val_sparse_categorical_accuracy: 0.9926\n",
            "Epoch 17/30\n",
            "235/235 [==============================] - 2s 8ms/step - loss: 0.0171 - sparse_categorical_accuracy: 0.9949 - val_loss: 0.0226 - val_sparse_categorical_accuracy: 0.9935\n",
            "Epoch 18/30\n",
            "235/235 [==============================] - 2s 8ms/step - loss: 0.0155 - sparse_categorical_accuracy: 0.9952 - val_loss: 0.0191 - val_sparse_categorical_accuracy: 0.9947\n",
            "Epoch 19/30\n",
            "235/235 [==============================] - 2s 8ms/step - loss: 0.0156 - sparse_categorical_accuracy: 0.9952 - val_loss: 0.0206 - val_sparse_categorical_accuracy: 0.9937\n",
            "Epoch 20/30\n",
            "235/235 [==============================] - 2s 8ms/step - loss: 0.0140 - sparse_categorical_accuracy: 0.9955 - val_loss: 0.0220 - val_sparse_categorical_accuracy: 0.9940\n",
            "Epoch 21/30\n",
            "235/235 [==============================] - 2s 8ms/step - loss: 0.0132 - sparse_categorical_accuracy: 0.9957 - val_loss: 0.0234 - val_sparse_categorical_accuracy: 0.9940\n",
            "Epoch 22/30\n",
            "235/235 [==============================] - 2s 8ms/step - loss: 0.0134 - sparse_categorical_accuracy: 0.9958 - val_loss: 0.0257 - val_sparse_categorical_accuracy: 0.9936\n",
            "Epoch 23/30\n",
            "235/235 [==============================] - 2s 8ms/step - loss: 0.0134 - sparse_categorical_accuracy: 0.9959 - val_loss: 0.0221 - val_sparse_categorical_accuracy: 0.9948\n",
            "Epoch 24/30\n",
            "235/235 [==============================] - 2s 8ms/step - loss: 0.0125 - sparse_categorical_accuracy: 0.9966 - val_loss: 0.0217 - val_sparse_categorical_accuracy: 0.9928\n",
            "Epoch 25/30\n",
            "235/235 [==============================] - 2s 8ms/step - loss: 0.0108 - sparse_categorical_accuracy: 0.9965 - val_loss: 0.0210 - val_sparse_categorical_accuracy: 0.9942\n",
            "Epoch 26/30\n",
            "235/235 [==============================] - 2s 8ms/step - loss: 0.0126 - sparse_categorical_accuracy: 0.9962 - val_loss: 0.0231 - val_sparse_categorical_accuracy: 0.9935\n",
            "Epoch 27/30\n",
            "235/235 [==============================] - 2s 8ms/step - loss: 0.0101 - sparse_categorical_accuracy: 0.9966 - val_loss: 0.0239 - val_sparse_categorical_accuracy: 0.9941\n",
            "Epoch 28/30\n",
            "235/235 [==============================] - 2s 8ms/step - loss: 0.0099 - sparse_categorical_accuracy: 0.9968 - val_loss: 0.0334 - val_sparse_categorical_accuracy: 0.9920\n",
            "Epoch 29/30\n",
            "235/235 [==============================] - 2s 8ms/step - loss: 0.0109 - sparse_categorical_accuracy: 0.9962 - val_loss: 0.0300 - val_sparse_categorical_accuracy: 0.9938\n",
            "Epoch 30/30\n",
            "235/235 [==============================] - 2s 8ms/step - loss: 0.0096 - sparse_categorical_accuracy: 0.9972 - val_loss: 0.0241 - val_sparse_categorical_accuracy: 0.9939\n",
            "313/313 [==============================] - 1s 2ms/step - loss: 0.0241 - sparse_categorical_accuracy: 0.9939\n"
          ],
          "name": "stdout"
        },
        {
          "output_type": "execute_result",
          "data": {
            "text/plain": [
              "0.9939000010490417"
            ]
          },
          "metadata": {
            "tags": []
          },
          "execution_count": 9
        }
      ]
    },
    {
      "cell_type": "code",
      "metadata": {
        "id": "7YkPgQqIHmKJ",
        "colab_type": "code",
        "colab": {
          "base_uri": "https://localhost:8080/",
          "height": 297
        },
        "outputId": "36ddcbae-43e6-4fed-fcbb-c076556b704b"
      },
      "source": [
        "# plotting the metrics\n",
        "import numpy as np\n",
        "import matplotlib\n",
        "matplotlib.use('agg')\n",
        "import matplotlib.pyplot as plt\n",
        "\n",
        "fig = plt.figure()\n",
        "plt.subplot(2,1,1)\n",
        "plt.plot(history.history['sparse_categorical_accuracy'])\n",
        "plt.plot(history.history['val_sparse_categorical_accuracy'])\n",
        "plt.title('model accuracy')\n",
        "plt.ylabel('accuracy')\n",
        "plt.xlabel('epoch')\n",
        "plt.legend(['train', 'test'], loc='lower right')\n",
        "\n",
        "plt.subplot(2,1,2)\n",
        "plt.plot(history.history['loss'])\n",
        "plt.plot(history.history['val_loss'])\n",
        "plt.title('model loss')\n",
        "plt.ylabel('loss')\n",
        "plt.xlabel('epoch')\n",
        "plt.legend(['train', 'test'], loc='upper right')\n",
        "\n",
        "plt.tight_layout()\n",
        "\n",
        "fig"
      ],
      "execution_count": 10,
      "outputs": [
        {
          "output_type": "execute_result",
          "data": {
            "image/png": "[encoded data removed]",
            "text/plain": [
              "<Figure size 432x288 with 2 Axes>"
            ]
          },
          "metadata": {
            "tags": []
          },
          "execution_count": 10
        }
      ]
    }
  ]
}